{
 "cells": [
  {
   "cell_type": "markdown",
   "metadata": {},
   "source": [
    "# Ejercicio - Escribir declaraciones if, else, y elif\n",
    "\n",
    "* Añadir el código necesario para crear una variable que guarde la velocidad del asteroide.\n",
    "* Escribe una expresión de prueba para calcular si necesita una advertencia.\n",
    "* Agregue las instrucciones que se ejecutarán si la expresión de prueba es true o false.\n",
    "\n",
    "Para este ejercicio, escribirás una lógica condicional que imprima una advertencia si un asteroide se acerca a la Tierra demasiado rápido. La velocidad del asteroide varía dependiendo de lo cerca que esté del sol, y cualquier velocidad superior a 25 kilómetros por segundo (km/s) merece una advertencia.\n",
    "\n",
    "Un asteroide se acerca, y viaja a una velocidad de 49 km/s."
   ]
  },
  {
   "cell_type": "code",
   "execution_count": 1,
   "metadata": {},
   "outputs": [
    {
     "name": "stdout",
     "output_type": "stream",
     "text": [
      "Advertencia, un asteroide se acerca a la Tierra\n"
     ]
    }
   ],
   "source": [
    "velocidad = 49\n",
    "\n",
    "if velocidad > 25:\n",
    "    print(\"Advertencia, un asteroide se acerca a la Tierra\")\n",
    "\n"
   ]
  },
  {
   "cell_type": "markdown",
   "metadata": {},
   "source": [
    "Si un asteroide entra en la atmósfera de la Tierra a una velocidad mayor o igual a 20 km/s, a veces produce un rayo de luz que se puede ver desde la Tierra. Escribe la lógica condicional que usa declaraciones if, else, y elif para alertar a las personas de todo el mundo que deben buscar un asteroide en el cielo. ¡Hay uno que se dirige a la tierra ahora a una velocidad de 19 km/s!\n",
    "\n",
    "* Agrega el código para crear una variable para un asteroide que viaja a 19 km/s\n",
    "* Escribe varias expresiones de prueba para determinar si puedes ver el rayo de luz desde la tierra\n",
    "* Agrega las instrucciones que se ejecutarán si las expresiones de prueba son True o False"
   ]
  },
  {
   "cell_type": "code",
   "execution_count": 2,
   "metadata": {},
   "outputs": [
    {
     "name": "stdout",
     "output_type": "stream",
     "text": [
      "Ningun fenomeno irregular\n"
     ]
    }
   ],
   "source": [
    "velocidad=19\n",
    "if velocidad > 25:\n",
    "    print (\"Advertencia, un asteroide se acerca a la Tierra\")\n",
    "elif velocidad >= 20:\n",
    "    print(\"Fenomeno espectacular inminente, busca en el cielo un rayo de luz\")\n",
    "else:\n",
    "    print(\"Ningun fenomeno irregular\")\n",
    "\n",
    "  \n"
   ]
  },
  {
   "cell_type": "markdown",
   "metadata": {},
   "source": [
    "# Ejercicio: Uso de operadores and y or\n",
    "\n",
    "* Los asteroides de menos de 25 metros en su dimensión más grande probablemente se quemarán a medida que entren en la atmósfera de la Tierra.\n",
    "\n",
    "Si una pieza de un asteroide que es más grande que 25 metros pero más pequeña que 1000 metros golpeara la Tierra, causaría mucho daño.\n",
    "También discutimos en el ejercicio anterior que:\n",
    "\n",
    "La velocidad del asteroide varía en función de lo cerca que esté del sol, y cualquier velocidad superior a 25 kilómetros por segundo (km/s) merece una advertencia.\n",
    "Si un asteroide entra en la atmósfera de la Tierra a una velocidad mayor o igual a 20 km/s, a veces produce un rayo de luz que se puede ver desde la Tierra."
   ]
  },
  {
   "cell_type": "markdown",
   "metadata": {},
   "source": [
    "* Agrega el código para crear nuevas variables para la velocidad y el tamaño del asteroide\n",
    "* Para probar el código, prueba con varias velocidades y tamaños\n",
    "* Escribe varias expresiones de prueba o combinaciones de expresiones de prueba para determinar qué mensaje se debe enviar a Tierra."
   ]
  },
  {
   "cell_type": "code",
   "execution_count": 37,
   "metadata": {},
   "outputs": [
    {
     "name": "stdout",
     "output_type": "stream",
     "text": [
      "Advertencia, un asteroide se acerca a la Tierra\n"
     ]
    }
   ],
   "source": [
    "velocidad= 40\n",
    "dimension= 19\n",
    "\n",
    "if velocidad >25 and dimension > 25 or velocidad>25:\n",
    "    print(\"Advertencia, un asteroide se acerca a la Tierra\")\n",
    "elif velocidad >= 20 and dimension > 25 or dimension>25:\n",
    "    print(\"Precaución un asteroide se aproxima a una velocidad de \" + str(velocidad)+\"km/s\"+ \" con una dimension PREOCUPANTE\")\n",
    "elif velocidad >=20 and dimension < 25:\n",
    "    print(\"Fenomeno Inminente, Podra ver un rayo de luz en el cielo\")\n",
    "else:\n",
    "    print(\"No existe riesgo en el asteroide\")\n"
   ]
  }
 ],
 "metadata": {
  "interpreter": {
   "hash": "7fb92a49f56970b4b539bb1379d99b79904db2a39a637b6819a8646eb943813e"
  },
  "kernelspec": {
   "display_name": "Python 3.10.2 64-bit",
   "language": "python",
   "name": "python3"
  },
  "language_info": {
   "codemirror_mode": {
    "name": "ipython",
    "version": 3
   },
   "file_extension": ".py",
   "mimetype": "text/x-python",
   "name": "python",
   "nbconvert_exporter": "python",
   "pygments_lexer": "ipython3",
   "version": "3.10.2"
  },
  "orig_nbformat": 4
 },
 "nbformat": 4,
 "nbformat_minor": 2
}
