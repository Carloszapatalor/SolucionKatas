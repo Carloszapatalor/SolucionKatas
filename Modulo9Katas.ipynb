{
 "cells": [
  {
   "cell_type": "markdown",
   "metadata": {},
   "source": [
    "# Ejercicio: Uso de funciones en Python"
   ]
  },
  {
   "cell_type": "markdown",
   "metadata": {},
   "source": [
    "##### Ejercicio 1: Trabajar con argumentos en funciones"
   ]
  },
  {
   "cell_type": "markdown",
   "metadata": {},
   "source": [
    "##### Comienza por crear una función que necesite tres lecturas de combustible y devuelva un informe:\n"
   ]
  },
  {
   "cell_type": "code",
   "execution_count": 24,
   "metadata": {},
   "outputs": [],
   "source": [
    "def report(tank1, tank2, tank3):\n",
    "    average = (tank1 + tank2 + tank3) / 3\n",
    "    return f\"Informe: Promedio: {average} Magna: {tank1} Premium: {tank2} Disel: {tank3}\"\n"
   ]
  },
  {
   "cell_type": "markdown",
   "metadata": {},
   "source": [
    "##### Ahora que hemos definido la función de informes, vamos a comprobarlo. Para esta misión, los tanques no están llenos:"
   ]
  },
  {
   "cell_type": "code",
   "execution_count": 13,
   "metadata": {},
   "outputs": [
    {
     "name": "stdout",
     "output_type": "stream",
     "text": [
      "Informe: Promedio: 45.666666666666664 \n",
      "    Magna: 12 \n",
      "    Premium: 112 \n",
      "    Disel: 13\n"
     ]
    }
   ],
   "source": [
    "def report(tank1, tank2, tank3):\n",
    "    average = (tank1 + tank2 + tank3) / 3\n",
    "    return f\"\"\"Informe: Promedio: {average} \n",
    "    Magna: {tank1} \n",
    "    Premium: {tank2} \n",
    "    Disel: {tank3}\"\"\"\n",
    "\n",
    "\n",
    "print(report(12, 112, 13))\n"
   ]
  },
  {
   "cell_type": "markdown",
   "metadata": {},
   "source": [
    "##### En lugar de simplemente crear el informe, la función también está calculando el promedio. Mejora la legibilidad extrayendo el cálculo promedio de la función en una nueva función para que el promedio se pueda hacer de forma independiente:"
   ]
  },
  {
   "cell_type": "code",
   "execution_count": 15,
   "metadata": {},
   "outputs": [
    {
     "data": {
      "text/plain": [
       "45.666666666666664"
      ]
     },
     "execution_count": 15,
     "metadata": {},
     "output_type": "execute_result"
    }
   ],
   "source": [
    "def average(data):\n",
    "    total = sum(data)\n",
    "    list_data = len(data)\n",
    "    return total / list_data\n",
    "\n",
    "\n",
    "average([12, 112, 13])\n"
   ]
  },
  {
   "cell_type": "markdown",
   "metadata": {},
   "source": [
    "##### Ahora actualiza la función de informes para llamando a la nueva función del promedio:"
   ]
  },
  {
   "cell_type": "code",
   "execution_count": 22,
   "metadata": {},
   "outputs": [
    {
     "name": "stdout",
     "output_type": "stream",
     "text": [
      "Informe: Promedio: 45.666666666666664\n",
      "    Magna: 12 \n",
      "    Premium: 112 \n",
      "    Disel: 13\n"
     ]
    }
   ],
   "source": [
    "def average(data):\n",
    "    total = sum(data)\n",
    "    list_data = len(data)\n",
    "    return total / list_data\n",
    "\n",
    "def report(tank1, tank2, tank3):\n",
    "    return f\"\"\"Informe: Promedio: {average([tank1, tank2, tank3])}\n",
    "    Magna: {tank1} \n",
    "    Premium: {tank2} \n",
    "    Disel: {tank3}\"\"\"\n",
    "\n",
    "print(report(12, 112, 13))\n",
    "\n",
    "\n"
   ]
  },
  {
   "cell_type": "markdown",
   "metadata": {},
   "source": [
    "# Ejercicio 2: Trabajo con argumentos de palabra clave"
   ]
  },
  {
   "cell_type": "markdown",
   "metadata": {},
   "source": [
    "#####  Ejercicio : Trabajar con argumentos de palabras clave en funciones\n",
    "En este ejercicio, construirás un informe de cohete que requiere varias piezas de información, como el tiempo hasta el destino, el combustible a la izquierda y el nombre del destino. Comienza por crear una función que creará un informe preciso de la misión:"
   ]
  },
  {
   "cell_type": "code",
   "execution_count": 26,
   "metadata": {},
   "outputs": [
    {
     "name": "stdout",
     "output_type": "stream",
     "text": [
      "\n",
      "    Destino: Moon\n",
      "    Prelzantamiento: 14\n",
      "    Tiempo hasta el destino: 51 \n",
      "    Combustible interno: 300000 \n",
      "    Combustible externo: 200000 \n",
      "    \n"
     ]
    }
   ],
   "source": [
    "def report(prelaunch, flight_time, destination, external_tank, internal_tank):\n",
    "    return f\"\"\"\n",
    "    Destino: {destination}\n",
    "    Prelzantamiento: {prelaunch}\n",
    "    Tiempo hasta el destino: {flight_time} \n",
    "    Combustible interno: {internal_tank} \n",
    "    Combustible externo: {external_tank} \n",
    "    \"\"\"\n",
    "\n",
    "\n",
    "#No entendi porque en la solucion suman los combustibles y el prelanzamiento, si no lo solicitan en los casos, solo piden imprimir los datos\n",
    "print(report(24, 31, \"Jupiter\", 320000, 420000))\n",
    "\n"
   ]
  },
  {
   "cell_type": "markdown",
   "metadata": {},
   "source": [
    "##### La función es problemática porque no se puede adaptar para minutos adicionales o tanques adicionales de combustible. Hazlo más flexible permitiendo cualquier número de pasos basados en el tiempo y cualquier número de tanques. En lugar de usar *args y **kwargs, aprovecha el hecho de que puedes usar cualquier nombre que desees. Asegurate que la función sea más legible mediante el uso de nombres de variables que están asociados con las entradas, como *minutes y **fuel_reservoirs:"
   ]
  },
  {
   "cell_type": "code",
   "execution_count": 29,
   "metadata": {},
   "outputs": [
    {
     "name": "stdout",
     "output_type": "stream",
     "text": [
      "\n",
      "    Destino: Jupiter\n",
      "    Prelzantamiento: 24\n",
      "    Tiempo hasta el destino: 31 \n",
      "    Combustible interno: 320000 \n",
      "    Combustible externo: 420000 \n",
      "    \n"
     ]
    }
   ],
   "source": [
    "def report(destination, *minutes, **fuel_reservoirs):\n",
    "    return f\"\"\"\n",
    "    Destino {destination}\n",
    "    Tiempo de viaje: {sum(minutes)} minutes\n",
    "    Combustible: {sum(fuel_reservoirs.values())}\n",
    "    \"\"\"\n",
    "\n",
    "\n",
    "def report(prelaunch, flight_time, destination, external_tank, internal_tank):\n",
    "    return f\"\"\"\n",
    "    Destino: {destination}\n",
    "    Prelzantamiento: {prelaunch}\n",
    "    Tiempo hasta el destino: {flight_time} \n",
    "    Combustible interno: {internal_tank} \n",
    "    Combustible externo: {external_tank} \n",
    "    \"\"\"\n",
    "\n",
    "\n",
    "print(report(24, 31, \"Jupiter\", internal_tank=320000, external_tank=420000))\n"
   ]
  },
  {
   "cell_type": "markdown",
   "metadata": {},
   "source": [
    "##### Debido a que el combustible que queda en los tanques es específico de cada tanque, actualiza la función para usar el nombre de cada tanque en el informe:"
   ]
  },
  {
   "cell_type": "code",
   "execution_count": 59,
   "metadata": {},
   "outputs": [
    {
     "name": "stdout",
     "output_type": "stream",
     "text": [
      "\n",
      "    Destino: Jupiter\n",
      "    Tiempo hasta el destino: 74\n",
      "    Total de combustible: 500000\n",
      "    main tank --> 300000external tank --> 200000\n"
     ]
    }
   ],
   "source": [
    "def report(destination, *minutes, **fuel_reservoirs):\n",
    "    main_report = f\"\"\"\n",
    "    Destino: {destination}\n",
    "    Tiempo hasta el destino: {sum(minutes)}\n",
    "    Total de combustible: {sum(fuel_reservoirs.values())}\n",
    "    \"\"\"\n",
    "    for tank_name, gallons in fuel_reservoirs.items():\n",
    "        main_report += f\"{tank_name} tank --> {gallons}\"\n",
    "    return main_report\n",
    "\n",
    "\n",
    "print(report(\"Jupiter\", 8, 11, 55, main=300000, external=200000))\n",
    "\n",
    "#Este ejercicio no lo entendi en absoluto.\n"
   ]
  }
 ],
 "metadata": {
  "interpreter": {
   "hash": "7fb92a49f56970b4b539bb1379d99b79904db2a39a637b6819a8646eb943813e"
  },
  "kernelspec": {
   "display_name": "Python 3.10.2 64-bit",
   "language": "python",
   "name": "python3"
  },
  "language_info": {
   "codemirror_mode": {
    "name": "ipython",
    "version": 3
   },
   "file_extension": ".py",
   "mimetype": "text/x-python",
   "name": "python",
   "nbconvert_exporter": "python",
   "pygments_lexer": "ipython3",
   "version": "3.10.2"
  },
  "orig_nbformat": 4
 },
 "nbformat": 4,
 "nbformat_minor": 2
}
