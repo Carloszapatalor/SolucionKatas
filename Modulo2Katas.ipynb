{
 "cells": [
  {
   "cell_type": "markdown",
   "metadata": {},
   "source": [
    "# Ejercicio - Crear un paquete\n",
    " ## Crear un entorno virtual\n",
    "\n",
    " * Ejecutamos en terminal: ``python -m venv env``\n",
    "\n",
    "\n",
    "    <img src=\"img/PrimerComando.png\">\n",
    "\n",
    "\n",
    " * Como resultado se generó el directorio ``env``\n",
    "\n",
    "    <img src=\"img/DirectorioEnv.png\">\n",
    "\n",
    "\n",
    " * Para activar el entronor virtual, ejecutamos en terminar  ``env\\Scripts\\activate``\n",
    " * Al terminar de ejecutarlo de logra ver ``(env)`` antes de toda la extension, indicando que ya estamos en el entorno virtual\n",
    "\n",
    "\n",
    "    <img src=\"img/Env.png\">\n",
    "\n",
    "\n",
    "## Instalar una biblioteca\n",
    "\n",
    "\n",
    "* Ejecuta el comando ``pip freeze`` para ver las bibliotecas instaladas en tu entorno\n",
    "* Como no tengo ninguna, no mostrara nada.\n",
    "\n",
    "   <img src=\"img/PipFreez.png\">\n",
    "\n",
    "\n",
    "* Ejecutamos ``pip install python-dateutil``\n",
    "\n",
    "   <img src=\"img/PipInstall.png\">\n",
    "\n",
    "\n",
    "* Ejecutamos nuevamente el comando ``pip freeze`` para ver las bibliotecas instaladas\n",
    "\n",
    "    <img src=\"img/PipFreeze.png\">\n",
    "\n",
    "\n",
    "* Ejecuta el comando ``deactivate``\n",
    "\n",
    "   <img src=\"img/Deactivate.png\">\n",
    "   "
   ]
  }
 ],
 "metadata": {
  "language_info": {
   "name": "python"
  },
  "orig_nbformat": 4
 },
 "nbformat": 4,
 "nbformat_minor": 2
}
