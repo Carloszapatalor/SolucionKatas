{
 "cells": [
  {
   "cell_type": "markdown",
   "metadata": {},
   "source": [
    "# Ejercicio1 - Utilizar operadores aritméticos\n",
    "\n",
    "* Exploremos cómo podemos crear un programa que pueda calcular la distancia entre dos planetas. \n",
    "* Comenzaremos usando dos distancias de planetas: Tierra (149.597.870 km) y Júpiter (778.547.200 km)."
   ]
  },
  {
   "cell_type": "code",
   "execution_count": 11,
   "metadata": {},
   "outputs": [],
   "source": [
    "Earth = 149597870\n",
    "Jupiter = 778547200\n"
   ]
  },
  {
   "cell_type": "markdown",
   "metadata": {},
   "source": [
    "##### Realizar la operación\n",
    "\n",
    "* Con los valores obtenidos, es el momento de añadir el código para realizar la operación. Restarás el primer planeta del segundo para determinar la distancia en kilómetros. A continuación, puedes convertir la distancia del kilómetro en millas multiplicándola por 0.621"
   ]
  },
  {
   "cell_type": "code",
   "execution_count": 35,
   "metadata": {},
   "outputs": [
    {
     "name": "stdout",
     "output_type": "stream",
     "text": [
      "La distancia entre los planetas es de 628949330 Km\n",
      "Distancia convertida en millas 390577534 M\n"
     ]
    }
   ],
   "source": [
    "Earth = 149597870\n",
    "Jupiter = 778547200\n",
    "rest= abs(Earth - Jupiter)\n",
    "mul = abs (rest * 0.621)\n",
    "\n",
    "print(\"La distancia entre los planetas es de \" + str(rest)+ \" Km\")\n",
    "\n",
    "print(\"Distancia convertida en millas \" + str(round(mul)) + \" M\")\n"
   ]
  },
  {
   "cell_type": "markdown",
   "metadata": {},
   "source": [
    "# Ejercicio 2: convierte cadenas en números y usa valores absolutos\n",
    "\n",
    "* Lee los valores\n",
    "* Usando input, agrega el código para leer la distancia del sol para cada planeta, considerando 2 planetas."
   ]
  },
  {
   "cell_type": "code",
   "execution_count": 38,
   "metadata": {},
   "outputs": [],
   "source": [
    "planet1 = input(\"Distancia del primer planeta ante el sol\")\n",
    "planet2 = input(\"Distancia del segundo planeta ante el sol\")\n"
   ]
  },
  {
   "cell_type": "markdown",
   "metadata": {},
   "source": [
    "##### Convertir a número"
   ]
  },
  {
   "cell_type": "code",
   "execution_count": 47,
   "metadata": {},
   "outputs": [
    {
     "name": "stdout",
     "output_type": "stream",
     "text": [
      "15\n",
      "20\n"
     ]
    }
   ],
   "source": [
    "planet1 = input(\"Distancia del primer planeta ante el sol\")\n",
    "planet2 = input(\"Distancia del segundo planeta ante el sol\")\n",
    "\n",
    "print(int(planet1))\n",
    "print(int(planet2))\n"
   ]
  },
  {
   "cell_type": "markdown",
   "metadata": {},
   "source": [
    "#### Realizar el cálculo y convertir a valor absoluto\n",
    "\n",
    "* Con los valores almacenados como números, ahora puedes agregar el código para realizar el cálculo, restando el primer planeta del segundo. \n",
    "* Debido a que el segundo planeta podría ser un número mayor, usarás abs para convertirlo a un valor absoluto. \n",
    "* También agregarás el código para mostrar el resultado en millas multiplicando la distancia del kilómetro por 0.621"
   ]
  },
  {
   "cell_type": "code",
   "execution_count": 55,
   "metadata": {},
   "outputs": [
    {
     "name": "stdout",
     "output_type": "stream",
     "text": [
      "La distancia entre planetas en KM es de 670400000\n",
      "La distancia entre planetas en M es de 416318400.0\n"
     ]
    }
   ],
   "source": [
    "planet1 = input(\"Distancia del primer planeta ante el sol\")\n",
    "planet2 = input(\"Distancia del segundo planeta ante el sol\")\n",
    "\n",
    "planet1 =int(planet1)\n",
    "planet2= int(planet2)\n",
    "\n",
    "rest = abs (planet1 - planet2)\n",
    "print(\"La distancia entre planetas en KM es de \"+str(rest))\n",
    "\n",
    "mul= abs(rest*0.621)\n",
    "print(\"La distancia entre planetas en M es de \"+str(mul))\n",
    "\n",
    "\n"
   ]
  }
 ],
 "metadata": {
  "interpreter": {
   "hash": "7fb92a49f56970b4b539bb1379d99b79904db2a39a637b6819a8646eb943813e"
  },
  "kernelspec": {
   "display_name": "Python 3.10.2 64-bit",
   "language": "python",
   "name": "python3"
  },
  "language_info": {
   "codemirror_mode": {
    "name": "ipython",
    "version": 3
   },
   "file_extension": ".py",
   "mimetype": "text/x-python",
   "name": "python",
   "nbconvert_exporter": "python",
   "pygments_lexer": "ipython3",
   "version": "3.10.2"
  },
  "orig_nbformat": 4
 },
 "nbformat": 4,
 "nbformat_minor": 2
}
